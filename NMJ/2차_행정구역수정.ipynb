{
 "cells": [
  {
   "cell_type": "code",
   "execution_count": 2,
   "metadata": {},
   "outputs": [],
   "source": [
    "import pandas as pd\n",
    "import numpy as np"
   ]
  },
  {
   "cell_type": "code",
   "execution_count": 45,
   "metadata": {},
   "outputs": [],
   "source": [
    "waste = pd.read_csv('../../DB/폐기물데이터_행정구역변경_2.csv', encoding='CP949')"
   ]
  },
  {
   "cell_type": "markdown",
   "metadata": {},
   "source": [
    "# 가구원수별"
   ]
  },
  {
   "cell_type": "code",
   "execution_count": 85,
   "metadata": {},
   "outputs": [],
   "source": [
    "house = pd.read_csv('../../DB/가구원수별.csv', encoding = 'CP949')"
   ]
  },
  {
   "cell_type": "code",
   "execution_count": 86,
   "metadata": {},
   "outputs": [
    {
     "name": "stdout",
     "output_type": "stream",
     "text": [
      "<class 'pandas.core.frame.DataFrame'>\n",
      "RangeIndex: 1305 entries, 0 to 1304\n",
      "Data columns (total 9 columns):\n",
      " #   Column  Non-Null Count  Dtype \n",
      "---  ------  --------------  ----- \n",
      " 0   행정구역    1305 non-null   object\n",
      " 1   시도      1305 non-null   object\n",
      " 2   시군구     1305 non-null   object\n",
      " 3   시점      1305 non-null   int64 \n",
      " 4   1인      1305 non-null   int64 \n",
      " 5   2인      1305 non-null   int64 \n",
      " 6   3인      1305 non-null   int64 \n",
      " 7   4인      1305 non-null   int64 \n",
      " 8   5인 이상   1305 non-null   object\n",
      "dtypes: int64(5), object(4)\n",
      "memory usage: 91.9+ KB\n"
     ]
    }
   ],
   "source": [
    "house.info()"
   ]
  },
  {
   "cell_type": "code",
   "execution_count": 87,
   "metadata": {},
   "outputs": [],
   "source": [
    "house['5인 이상'] = pd.to_numeric(house['5인 이상'], errors='coerce')"
   ]
  },
  {
   "cell_type": "code",
   "execution_count": 88,
   "metadata": {},
   "outputs": [
    {
     "name": "stdout",
     "output_type": "stream",
     "text": [
      "<class 'pandas.core.frame.DataFrame'>\n",
      "RangeIndex: 1305 entries, 0 to 1304\n",
      "Data columns (total 9 columns):\n",
      " #   Column  Non-Null Count  Dtype  \n",
      "---  ------  --------------  -----  \n",
      " 0   행정구역    1305 non-null   object \n",
      " 1   시도      1305 non-null   object \n",
      " 2   시군구     1305 non-null   object \n",
      " 3   시점      1305 non-null   int64  \n",
      " 4   1인      1305 non-null   int64  \n",
      " 5   2인      1305 non-null   int64  \n",
      " 6   3인      1305 non-null   int64  \n",
      " 7   4인      1305 non-null   int64  \n",
      " 8   5인 이상   1303 non-null   float64\n",
      "dtypes: float64(1), int64(5), object(3)\n",
      "memory usage: 91.9+ KB\n"
     ]
    }
   ],
   "source": [
    "house.info()"
   ]
  },
  {
   "cell_type": "code",
   "execution_count": 89,
   "metadata": {},
   "outputs": [
    {
     "name": "stdout",
     "output_type": "stream",
     "text": [
      "set()\n",
      "{'경남_의창구', '경기_기흥구', '경기_덕양구', '경기_일산서구', '경기_중원구', '경북_북구', '경남_마산합포구', '경기_팔달구', '경남_성산구', '경기_단원구', '충남_동남구', '경북_남구', '전북_완산구', '경남_진해구', '충북_청원구', '경기_동안구', '충남_서북구', '경기_수지구', '경기_처인구', '충북_흥덕구', '경기_장안구', '경남_마산회원구', '경기_일산동구', '경기_상록구', '경기_수정구', '경기_권선구', '충북_서원구', '경기_만안구', '전북_덕진구', '경북_군위군', '경기_분당구', '경기_영통구', '충북_상당구'}\n"
     ]
    }
   ],
   "source": [
    "print(set(waste['행정구역'].unique())-set(house['행정구역'].unique()))\n",
    "print(set(house['행정구역'].unique()) - set(waste['행정구역'].unique()))"
   ]
  },
  {
   "cell_type": "code",
   "execution_count": null,
   "metadata": {},
   "outputs": [],
   "source": [
    "# set()\n",
    "# {'경남_의창구', '경기_기흥구', '경기_덕양구', '경기_일산서구', '경기_중원구',\n",
    "#   '경북_북구', '경남_마산합포구', '경기_팔달구', '경남_성산구', '경기_단원구', \n",
    "#   '충남_동남구', '경북_남구', '전북_완산구', '경남_진해구', '충북_청원구', '경기_동안구',\n",
    "#     '충남_서북구', '경기_수지구', '경기_처인구', '충북_흥덕구', '경기_장안구', \n",
    "#     '경남_마산회원구', '경기_일산동구', '경기_상록구', '경기_수정구', '경기_권선구',\n",
    "#       '충북_서원구', '경기_만안구', '전북_덕진구', '경북_군위군', '경기_분당구', '경기_영통구', '충북_상당구'}"
   ]
  },
  {
   "cell_type": "code",
   "execution_count": 90,
   "metadata": {},
   "outputs": [],
   "source": [
    "bori_dict = {\n",
    "  '경기_부천시': ['경기_오정구', '경기_소사구', '경기_원미구'],\n",
    "  '전북_전주시':['전북_완산구', '전북_덕진구'], \n",
    "  '경기_안산시' : ['경기_상록구','경기_단원구'],\n",
    "  '경기_고양시':['경기_일산동구', '경기_덕양구', '경기_일산서구'],\n",
    "  '경남_창원시':['경남_성산구', '경남_마산합포구', '경남_진해구', '경남_마산회원구', '경남_의창구'],\n",
    "  '충북_청주시' :['충북_상당구', '충북_청원구', '충북_흥덕구', '충북_서원구'],\n",
    "  '경기_안양시' : ['경기_만안구','경기_동안구'],\n",
    "  '경기_용인시':['경기_수지구', '경기_처인구', '경기_기흥구'],\n",
    "  '경기_수원시':['경기_영통구', '경기_권선구','경기_장안구','경기_팔달구'],\n",
    "  '경기_성남시':['경기_분당구', '경기_중원구', '경기_수정구'],\n",
    "  '충남_천안시':['충남_동남구', '충남_서북구']\n",
    "}"
   ]
  },
  {
   "cell_type": "code",
   "execution_count": 91,
   "metadata": {},
   "outputs": [],
   "source": [
    "def change(data, dict):\n",
    "    replacement_map = {}\n",
    "    for main_region, sub_regions in dict.items():\n",
    "        for i in sub_regions:\n",
    "            replacement_map[i] = main_region\n",
    "    data['행정구역'] = data['행정구역'].replace(replacement_map)\n",
    "    return data"
   ]
  },
  {
   "cell_type": "code",
   "execution_count": 92,
   "metadata": {},
   "outputs": [
    {
     "name": "stdout",
     "output_type": "stream",
     "text": [
      "\n",
      "바뀐 후:\n",
      "        행정구역    시점  시도  시군구     1인     2인     3인     4인   5인 이상\n",
      "0     강원_강릉시  2019  강원  강릉시  32119  28629  16547  11083  3715.0\n",
      "1     강원_강릉시  2020  강원  강릉시  37635  29649  16499  10810  3439.0\n",
      "2     강원_강릉시  2021  강원  강릉시  38581  30768  16191  10369  3196.0\n",
      "3     강원_강릉시  2022  강원  강릉시  37485  31207  16149   9929  2893.0\n",
      "4     강원_강릉시  2023  강원  강릉시  39349  31555  15881   9526  2607.0\n",
      "...      ...   ...  ..  ...    ...    ...    ...    ...     ...\n",
      "1150  충북_충주시  2019  충북  충주시  30972  27619  16713  10954  3933.0\n",
      "1151  충북_충주시  2020  충북  충주시  33557  28496  16470  11058  3501.0\n",
      "1152  충북_충주시  2021  충북  충주시  35774  29809  15926  10638  3203.0\n",
      "1153  충북_충주시  2022  충북  충주시  36621  30628  15892  10025  2964.0\n",
      "1154  충북_충주시  2023  충북  충주시  38242  31137  15885   9654  2791.0\n",
      "\n",
      "[1155 rows x 9 columns]\n"
     ]
    }
   ],
   "source": [
    "modified_house = change(data=house.copy(), dict=bori_dict)\n",
    "modifing_house = modified_house.groupby(['행정구역','시점']).agg(\n",
    "  {'시도':'first',\n",
    "   '시군구':'first',\n",
    "   '1인':'sum',\n",
    "   '2인':'sum',\n",
    "   '3인':'sum',\n",
    "   '4인':'sum',\n",
    "   '5인 이상':'sum'\n",
    "   }).reset_index()\n",
    "print(\"\\n바뀐 후:\")\n",
    "print(modifing_house)\n"
   ]
  },
  {
   "cell_type": "code",
   "execution_count": 93,
   "metadata": {},
   "outputs": [
    {
     "data": {
      "text/html": [
       "<div>\n",
       "<style scoped>\n",
       "    .dataframe tbody tr th:only-of-type {\n",
       "        vertical-align: middle;\n",
       "    }\n",
       "\n",
       "    .dataframe tbody tr th {\n",
       "        vertical-align: top;\n",
       "    }\n",
       "\n",
       "    .dataframe thead th {\n",
       "        text-align: right;\n",
       "    }\n",
       "</style>\n",
       "<table border=\"1\" class=\"dataframe\">\n",
       "  <thead>\n",
       "    <tr style=\"text-align: right;\">\n",
       "      <th></th>\n",
       "      <th>행정구역</th>\n",
       "      <th>시점</th>\n",
       "      <th>시도</th>\n",
       "      <th>시군구</th>\n",
       "      <th>1인</th>\n",
       "      <th>2인</th>\n",
       "      <th>3인</th>\n",
       "      <th>4인</th>\n",
       "      <th>5인 이상</th>\n",
       "    </tr>\n",
       "  </thead>\n",
       "  <tbody>\n",
       "    <tr>\n",
       "      <th>170</th>\n",
       "      <td>경기_안양시</td>\n",
       "      <td>2019</td>\n",
       "      <td>경기</td>\n",
       "      <td>안양시</td>\n",
       "      <td>94156</td>\n",
       "      <td>107250</td>\n",
       "      <td>100716</td>\n",
       "      <td>86442</td>\n",
       "      <td>22826.0</td>\n",
       "    </tr>\n",
       "    <tr>\n",
       "      <th>171</th>\n",
       "      <td>경기_안양시</td>\n",
       "      <td>2020</td>\n",
       "      <td>경기</td>\n",
       "      <td>안양시</td>\n",
       "      <td>97066</td>\n",
       "      <td>108180</td>\n",
       "      <td>97192</td>\n",
       "      <td>83346</td>\n",
       "      <td>21098.0</td>\n",
       "    </tr>\n",
       "    <tr>\n",
       "      <th>172</th>\n",
       "      <td>경기_안양시</td>\n",
       "      <td>2021</td>\n",
       "      <td>경기</td>\n",
       "      <td>안양시</td>\n",
       "      <td>106480</td>\n",
       "      <td>113638</td>\n",
       "      <td>97180</td>\n",
       "      <td>80192</td>\n",
       "      <td>19078.0</td>\n",
       "    </tr>\n",
       "    <tr>\n",
       "      <th>173</th>\n",
       "      <td>경기_안양시</td>\n",
       "      <td>2022</td>\n",
       "      <td>경기</td>\n",
       "      <td>안양시</td>\n",
       "      <td>112936</td>\n",
       "      <td>118920</td>\n",
       "      <td>100034</td>\n",
       "      <td>76576</td>\n",
       "      <td>17578.0</td>\n",
       "    </tr>\n",
       "    <tr>\n",
       "      <th>174</th>\n",
       "      <td>경기_안양시</td>\n",
       "      <td>2023</td>\n",
       "      <td>경기</td>\n",
       "      <td>안양시</td>\n",
       "      <td>116898</td>\n",
       "      <td>119044</td>\n",
       "      <td>100630</td>\n",
       "      <td>74586</td>\n",
       "      <td>16472.0</td>\n",
       "    </tr>\n",
       "  </tbody>\n",
       "</table>\n",
       "</div>"
      ],
      "text/plain": [
       "       행정구역    시점  시도  시군구      1인      2인      3인     4인    5인 이상\n",
       "170  경기_안양시  2019  경기  안양시   94156  107250  100716  86442  22826.0\n",
       "171  경기_안양시  2020  경기  안양시   97066  108180   97192  83346  21098.0\n",
       "172  경기_안양시  2021  경기  안양시  106480  113638   97180  80192  19078.0\n",
       "173  경기_안양시  2022  경기  안양시  112936  118920  100034  76576  17578.0\n",
       "174  경기_안양시  2023  경기  안양시  116898  119044  100630  74586  16472.0"
      ]
     },
     "execution_count": 93,
     "metadata": {},
     "output_type": "execute_result"
    }
   ],
   "source": [
    "modifing_house[modifing_house['행정구역']=='경기_안양시']"
   ]
  },
  {
   "cell_type": "code",
   "execution_count": 95,
   "metadata": {},
   "outputs": [
    {
     "name": "stdout",
     "output_type": "stream",
     "text": [
      "set()\n",
      "{'경북_군위군', '경북_북구', '경북_남구'}\n"
     ]
    }
   ],
   "source": [
    "print(set(waste['행정구역'].unique())-set(modifing_house['행정구역'].unique()))\n",
    "print(set(modifing_house['행정구역'].unique()) - set(waste['행정구역'].unique()))"
   ]
  },
  {
   "cell_type": "markdown",
   "metadata": {},
   "source": [
    "### 경북_군위군은 대구_군위군으로 변경"
   ]
  },
  {
   "cell_type": "code",
   "execution_count": 96,
   "metadata": {},
   "outputs": [
    {
     "name": "stderr",
     "output_type": "stream",
     "text": [
      "C:\\Users\\nammi\\AppData\\Local\\Temp\\ipykernel_23304\\3936512098.py:1: FutureWarning: ChainedAssignmentError: behaviour will change in pandas 3.0!\n",
      "You are setting values through chained assignment. Currently this works in certain cases, but when using Copy-on-Write (which will become the default behaviour in pandas 3.0) this will never work to update the original DataFrame or Series, because the intermediate object on which we are setting values will behave as a copy.\n",
      "A typical example is when you are setting values in a column of a DataFrame, like:\n",
      "\n",
      "df[\"col\"][row_indexer] = value\n",
      "\n",
      "Use `df.loc[row_indexer, \"col\"] = values` instead, to perform the assignment in a single step and ensure this keeps updating the original `df`.\n",
      "\n",
      "See the caveats in the documentation: https://pandas.pydata.org/pandas-docs/stable/user_guide/indexing.html#returning-a-view-versus-a-copy\n",
      "\n",
      "  modifing_house['시도'][modifing_house['행정구역'] == \"경북_군위군\"] = '대구'\n",
      "C:\\Users\\nammi\\AppData\\Local\\Temp\\ipykernel_23304\\3936512098.py:1: SettingWithCopyWarning: \n",
      "A value is trying to be set on a copy of a slice from a DataFrame\n",
      "\n",
      "See the caveats in the documentation: https://pandas.pydata.org/pandas-docs/stable/user_guide/indexing.html#returning-a-view-versus-a-copy\n",
      "  modifing_house['시도'][modifing_house['행정구역'] == \"경북_군위군\"] = '대구'\n",
      "C:\\Users\\nammi\\AppData\\Local\\Temp\\ipykernel_23304\\3936512098.py:2: FutureWarning: ChainedAssignmentError: behaviour will change in pandas 3.0!\n",
      "You are setting values through chained assignment. Currently this works in certain cases, but when using Copy-on-Write (which will become the default behaviour in pandas 3.0) this will never work to update the original DataFrame or Series, because the intermediate object on which we are setting values will behave as a copy.\n",
      "A typical example is when you are setting values in a column of a DataFrame, like:\n",
      "\n",
      "df[\"col\"][row_indexer] = value\n",
      "\n",
      "Use `df.loc[row_indexer, \"col\"] = values` instead, to perform the assignment in a single step and ensure this keeps updating the original `df`.\n",
      "\n",
      "See the caveats in the documentation: https://pandas.pydata.org/pandas-docs/stable/user_guide/indexing.html#returning-a-view-versus-a-copy\n",
      "\n",
      "  modifing_house['행정구역'][modifing_house['행정구역'] == \"경북_군위군\"] = '대구_군위군'\n",
      "C:\\Users\\nammi\\AppData\\Local\\Temp\\ipykernel_23304\\3936512098.py:2: SettingWithCopyWarning: \n",
      "A value is trying to be set on a copy of a slice from a DataFrame\n",
      "\n",
      "See the caveats in the documentation: https://pandas.pydata.org/pandas-docs/stable/user_guide/indexing.html#returning-a-view-versus-a-copy\n",
      "  modifing_house['행정구역'][modifing_house['행정구역'] == \"경북_군위군\"] = '대구_군위군'\n"
     ]
    }
   ],
   "source": [
    "modifing_house['시도'][modifing_house['행정구역'] == \"경북_군위군\"] = '대구'\n",
    "modifing_house['행정구역'][modifing_house['행정구역'] == \"경북_군위군\"] = '대구_군위군'"
   ]
  },
  {
   "cell_type": "code",
   "execution_count": 98,
   "metadata": {},
   "outputs": [
    {
     "data": {
      "text/html": [
       "<div>\n",
       "<style scoped>\n",
       "    .dataframe tbody tr th:only-of-type {\n",
       "        vertical-align: middle;\n",
       "    }\n",
       "\n",
       "    .dataframe tbody tr th {\n",
       "        vertical-align: top;\n",
       "    }\n",
       "\n",
       "    .dataframe thead th {\n",
       "        text-align: right;\n",
       "    }\n",
       "</style>\n",
       "<table border=\"1\" class=\"dataframe\">\n",
       "  <thead>\n",
       "    <tr style=\"text-align: right;\">\n",
       "      <th></th>\n",
       "      <th>행정구역</th>\n",
       "      <th>시점</th>\n",
       "      <th>시도</th>\n",
       "      <th>시군구</th>\n",
       "      <th>1인</th>\n",
       "      <th>2인</th>\n",
       "      <th>3인</th>\n",
       "      <th>4인</th>\n",
       "      <th>5인 이상</th>\n",
       "    </tr>\n",
       "  </thead>\n",
       "  <tbody>\n",
       "    <tr>\n",
       "      <th>355</th>\n",
       "      <td>대구_군위군</td>\n",
       "      <td>2019</td>\n",
       "      <td>대구</td>\n",
       "      <td>군위군</td>\n",
       "      <td>3985</td>\n",
       "      <td>4160</td>\n",
       "      <td>1504</td>\n",
       "      <td>628</td>\n",
       "      <td>283.0</td>\n",
       "    </tr>\n",
       "    <tr>\n",
       "      <th>356</th>\n",
       "      <td>대구_군위군</td>\n",
       "      <td>2020</td>\n",
       "      <td>대구</td>\n",
       "      <td>군위군</td>\n",
       "      <td>4111</td>\n",
       "      <td>4275</td>\n",
       "      <td>1451</td>\n",
       "      <td>625</td>\n",
       "      <td>264.0</td>\n",
       "    </tr>\n",
       "    <tr>\n",
       "      <th>357</th>\n",
       "      <td>대구_군위군</td>\n",
       "      <td>2021</td>\n",
       "      <td>대구</td>\n",
       "      <td>군위군</td>\n",
       "      <td>4426</td>\n",
       "      <td>4249</td>\n",
       "      <td>1378</td>\n",
       "      <td>513</td>\n",
       "      <td>231.0</td>\n",
       "    </tr>\n",
       "    <tr>\n",
       "      <th>358</th>\n",
       "      <td>대구_군위군</td>\n",
       "      <td>2022</td>\n",
       "      <td>대구</td>\n",
       "      <td>군위군</td>\n",
       "      <td>4683</td>\n",
       "      <td>4375</td>\n",
       "      <td>1392</td>\n",
       "      <td>507</td>\n",
       "      <td>228.0</td>\n",
       "    </tr>\n",
       "    <tr>\n",
       "      <th>484</th>\n",
       "      <td>대구_군위군</td>\n",
       "      <td>2023</td>\n",
       "      <td>대구</td>\n",
       "      <td>군위군</td>\n",
       "      <td>3874</td>\n",
       "      <td>5094</td>\n",
       "      <td>1311</td>\n",
       "      <td>467</td>\n",
       "      <td>197.0</td>\n",
       "    </tr>\n",
       "  </tbody>\n",
       "</table>\n",
       "</div>"
      ],
      "text/plain": [
       "       행정구역    시점  시도  시군구    1인    2인    3인   4인  5인 이상\n",
       "355  대구_군위군  2019  대구  군위군  3985  4160  1504  628  283.0\n",
       "356  대구_군위군  2020  대구  군위군  4111  4275  1451  625  264.0\n",
       "357  대구_군위군  2021  대구  군위군  4426  4249  1378  513  231.0\n",
       "358  대구_군위군  2022  대구  군위군  4683  4375  1392  507  228.0\n",
       "484  대구_군위군  2023  대구  군위군  3874  5094  1311  467  197.0"
      ]
     },
     "execution_count": 98,
     "metadata": {},
     "output_type": "execute_result"
    }
   ],
   "source": [
    "modifing_house[modifing_house['행정구역'] == \"대구_군위군\"]"
   ]
  },
  {
   "cell_type": "markdown",
   "metadata": {},
   "source": [
    "### '경북_북구', '경북_남구' 삭제"
   ]
  },
  {
   "cell_type": "code",
   "execution_count": 99,
   "metadata": {},
   "outputs": [],
   "source": [
    "modifing_house = modifing_house[~modifing_house['행정구역'].isin(['경북_북구', '경북_남구'])]"
   ]
  },
  {
   "cell_type": "code",
   "execution_count": 102,
   "metadata": {},
   "outputs": [
    {
     "name": "stdout",
     "output_type": "stream",
     "text": [
      "set()\n",
      "set()\n"
     ]
    }
   ],
   "source": [
    "print(set(waste['행정구역'].unique())-set(modifing_house['행정구역'].unique()))\n",
    "print(set(modifing_house['행정구역'].unique()) - set(waste['행정구역'].unique()))"
   ]
  },
  {
   "cell_type": "code",
   "execution_count": 103,
   "metadata": {},
   "outputs": [],
   "source": [
    "# modifing_house.to_csv('../../DB/가구원수별_수정.csv', index=False, encoding='CP949')"
   ]
  },
  {
   "cell_type": "code",
   "execution_count": 217,
   "metadata": {},
   "outputs": [],
   "source": [
    "moving = pd.read_csv('../../DB/전입출.csv', encoding = 'utf-8')"
   ]
  },
  {
   "cell_type": "code",
   "execution_count": 218,
   "metadata": {},
   "outputs": [
    {
     "name": "stdout",
     "output_type": "stream",
     "text": [
      "<class 'pandas.core.frame.DataFrame'>\n",
      "RangeIndex: 1508 entries, 0 to 1507\n",
      "Data columns (total 7 columns):\n",
      " #   Column   Non-Null Count  Dtype \n",
      "---  ------   --------------  ----- \n",
      " 0   행정구역     1508 non-null   object\n",
      " 1   시도       1508 non-null   object\n",
      " 2   시군구      1508 non-null   object\n",
      " 3   시점       1508 non-null   int64 \n",
      " 4   총전입 (명)  1508 non-null   int64 \n",
      " 5   총전출 (명)  1508 non-null   int64 \n",
      " 6   순이동 (명)  1508 non-null   int64 \n",
      "dtypes: int64(4), object(3)\n",
      "memory usage: 82.6+ KB\n"
     ]
    }
   ],
   "source": [
    "moving.info()"
   ]
  },
  {
   "cell_type": "code",
   "execution_count": 219,
   "metadata": {},
   "outputs": [
    {
     "name": "stdout",
     "output_type": "stream",
     "text": [
      "set()\n",
      "{'충북_청원군', '경기_화성군', '충남_논산군', '경기_포천군', '경기_여주군', '경기_안성군', '경기_이천군', '경남_양산군', '경남_울산시', '경기_김포군', '경기_용인군', '경남_마산시', '충남_연기군', '전남_여천군', '인천_남구', '충남_당진군', '경기_양주군', '경기_파주군', '경기_광주군', '전남_여천시', '경북_군위군', '경남_진해시'}\n"
     ]
    }
   ],
   "source": [
    "print(set(waste['행정구역'].unique())-set(moving['행정구역'].unique()))\n",
    "print(set(moving['행정구역'].unique()) - set(waste['행정구역'].unique()))"
   ]
  },
  {
   "cell_type": "code",
   "execution_count": null,
   "metadata": {},
   "outputs": [],
   "source": [
    "set()\n",
    "{'충북_청원군', '경기_화성군', '충남_논산군', '경기_포천군', '경기_여주군', '경기_안성군', \n",
    " '경기_이천군', '경남_양산군', '경남_울산시', '경기_김포군', '경기_용인군', '경남_마산시', \n",
    " '충남_연기군', '전남_여천군', '인천_남구', '충남_당진군', '경기_양주군', '경기_파주군', \n",
    " '경기_광주군', '전남_여천시', '경북_군위군', '경남_진해시'}"
   ]
  },
  {
   "cell_type": "code",
   "execution_count": 112,
   "metadata": {},
   "outputs": [
    {
     "name": "stdout",
     "output_type": "stream",
     "text": [
      "\n",
      "바뀐 후:\n",
      "        행정구역    시점  시도  시군구  총전입 (명)  총전출 (명)  순이동 (명)\n",
      "0     강원_강릉시  2019  강원  강릉시    31980    30787     1193\n",
      "1     강원_강릉시  2020  강원  강릉시    31595    30983      612\n",
      "2     강원_강릉시  2021  강원  강릉시    31820    30668     1152\n",
      "3     강원_강릉시  2022  강원  강릉시    25320    25598     -278\n",
      "4     강원_강릉시  2023  강원  강릉시    23710    24529     -819\n",
      "...      ...   ...  ..  ...      ...      ...      ...\n",
      "1497  충북_충주시  2020  충북  충주시    29948    29887       61\n",
      "1498  충북_충주시  2021  충북  충주시    29990    29510      480\n",
      "1499  충북_충주시  2022  충북  충주시    24920    24727      193\n",
      "1500  충북_충주시  2023  충북  충주시    25753    25169      584\n",
      "1501  충북_충주시  2024  충북  충주시    25142    24661      481\n",
      "\n",
      "[1502 rows x 7 columns]\n"
     ]
    }
   ],
   "source": [
    "modified_moving = change(data=moving.copy(), dict=bori_dict)\n",
    "moving_change = modified_moving.groupby(['행정구역','시점']).agg(\n",
    "  {'시도':'first',\n",
    "   '시군구':'first',\n",
    "   '총전입 (명)':'sum',\n",
    "   '총전출 (명)':'sum',\n",
    "   '순이동 (명)':'sum'\n",
    "   }).reset_index()\n",
    "print(\"\\n바뀐 후:\")\n",
    "print(moving_change)\n"
   ]
  },
  {
   "cell_type": "code",
   "execution_count": 113,
   "metadata": {},
   "outputs": [
    {
     "name": "stdout",
     "output_type": "stream",
     "text": [
      "set()\n",
      "{'충북_청원군', '경기_화성군', '충남_논산군', '경기_포천군', '경기_여주군', '경기_안성군', '경기_이천군', '경남_양산군', '경남_울산시', '경기_김포군', '경남_마산시', '충남_연기군', '전남_여천군', '인천_남구', '충남_당진군', '경기_양주군', '경기_파주군', '경기_광주군', '전남_여천시', '경남_진해시', '경북_군위군', '경기_용인군'}\n"
     ]
    }
   ],
   "source": [
    "print(set(waste['행정구역'].unique())-set(moving_change['행정구역'].unique()))\n",
    "print(set(moving_change['행정구역'].unique()) - set(waste['행정구역'].unique()))"
   ]
  },
  {
   "cell_type": "code",
   "execution_count": null,
   "metadata": {},
   "outputs": [],
   "source": [
    "set()\n",
    "{'충북_청원군', '경기_화성군', '충남_논산군', '경기_포천군', '경기_여주군', '경기_안성군',\n",
    "  '경기_이천군', '경남_양산군', '경남_울산시', '경기_김포군', '경남_마산시',\n",
    "  '충남_연기군', '전남_여천군', '인천_남구', '충남_당진군', '경기_양주군', '경기_파주군',\n",
    "  '경기_광주군', '전남_여천시', '경남_진해시', '경북_군위군', '경기_용인군'}"
   ]
  },
  {
   "cell_type": "markdown",
   "metadata": {},
   "source": [
    "- 바뀐게 없음..흑흑"
   ]
  },
  {
   "cell_type": "code",
   "execution_count": 220,
   "metadata": {},
   "outputs": [
    {
     "name": "stdout",
     "output_type": "stream",
     "text": [
      "       행정구역  시도  시군구    시점  총전입 (명)  총전출 (명)  순이동 (명)\n",
      "830  충북_청원군  충북  청원군  2019        0        0        0\n",
      "831  충북_청원군  충북  청원군  2020        0        0        0\n",
      "832  충북_청원군  충북  청원군  2021        0        0        0\n",
      "833  충북_청원군  충북  청원군  2022        0        0        0\n",
      "834  충북_청원군  충북  청원군  2023        0        0        0\n",
      "835  충북_청원군  충북  청원군  2024        0        0        0\n",
      "Empty DataFrame\n",
      "Columns: [행정구역, 시도, 시군구, 폐기물_종류, 폐기물_종류1, 폐기물_종류2, 재활용, 소각, 매립, 기타, 발생량, 연도]\n",
      "Index: []\n"
     ]
    }
   ],
   "source": [
    "# 청원 -> 청주로 통합 삭제\n",
    "print(moving[moving['행정구역'].str.startswith('충북_청원')])\n",
    "print(waste[waste['행정구역'].str.startswith('충북_청원')])"
   ]
  },
  {
   "cell_type": "code",
   "execution_count": 221,
   "metadata": {},
   "outputs": [
    {
     "data": {
      "text/html": [
       "<div>\n",
       "<style scoped>\n",
       "    .dataframe tbody tr th:only-of-type {\n",
       "        vertical-align: middle;\n",
       "    }\n",
       "\n",
       "    .dataframe tbody tr th {\n",
       "        vertical-align: top;\n",
       "    }\n",
       "\n",
       "    .dataframe thead th {\n",
       "        text-align: right;\n",
       "    }\n",
       "</style>\n",
       "<table border=\"1\" class=\"dataframe\">\n",
       "  <thead>\n",
       "    <tr style=\"text-align: right;\">\n",
       "      <th></th>\n",
       "      <th>행정구역</th>\n",
       "      <th>시도</th>\n",
       "      <th>시군구</th>\n",
       "      <th>시점</th>\n",
       "      <th>총전입 (명)</th>\n",
       "      <th>총전출 (명)</th>\n",
       "      <th>순이동 (명)</th>\n",
       "    </tr>\n",
       "  </thead>\n",
       "  <tbody>\n",
       "  </tbody>\n",
       "</table>\n",
       "</div>"
      ],
      "text/plain": [
       "Empty DataFrame\n",
       "Columns: [행정구역, 시도, 시군구, 시점, 총전입 (명), 총전출 (명), 순이동 (명)]\n",
       "Index: []"
      ]
     },
     "execution_count": 221,
     "metadata": {},
     "output_type": "execute_result"
    }
   ],
   "source": [
    "moving = moving[~moving['행정구역'].str.startswith('충북_청원')]\n",
    "moving[moving['행정구역'].str.startswith('충북_청원')]"
   ]
  },
  {
   "cell_type": "code",
   "execution_count": 222,
   "metadata": {},
   "outputs": [
    {
     "name": "stdout",
     "output_type": "stream",
     "text": [
      "       행정구역  시도  시군구    시점  총전입 (명)  총전출 (명)  순이동 (명)\n",
      "596  경기_화성시  경기  화성시  2019   168445   116607    51838\n",
      "597  경기_화성시  경기  화성시  2020   155727   119562    36165\n",
      "598  경기_화성시  경기  화성시  2021   153361   124882    28479\n",
      "599  경기_화성시  경기  화성시  2022   119306    98368    20938\n",
      "600  경기_화성시  경기  화성시  2023   142568   112517    30051\n",
      "601  경기_화성시  경기  화성시  2024   131324   110665    20659\n",
      "638  경기_화성군  경기  화성군  2019        0        0        0\n",
      "639  경기_화성군  경기  화성군  2020        0        0        0\n",
      "640  경기_화성군  경기  화성군  2021        0        0        0\n",
      "641  경기_화성군  경기  화성군  2022        0        0        0\n",
      "642  경기_화성군  경기  화성군  2023        0        0        0\n",
      "643  경기_화성군  경기  화성군  2024        0        0        0\n",
      "         행정구역  시도  시군구          폐기물_종류  폐기물_종류1   폐기물_종류2       재활용       소각  \\\n",
      "3071   경기_화성시  경기  화성시    종량제방식 등 혼합배출      가연성       폐지류     328.5  18651.5   \n",
      "3072   경기_화성시  경기  화성시    종량제방식 등 혼합배출      가연성    폐합성수지류    3504.0  15987.0   \n",
      "3073   경기_화성시  경기  화성시    종량제방식 등 혼합배출      가연성      폐고무류       0.0    547.5   \n",
      "3074   경기_화성시  경기  화성시    종량제방식 등 혼합배출      가연성      폐섬유류       0.0   5840.0   \n",
      "3075   경기_화성시  경기  화성시    종량제방식 등 혼합배출      가연성  음식물류 폐기물       0.0   5329.0   \n",
      "...       ...  ..  ...             ...      ...       ...       ...      ...   \n",
      "37032  경기_화성시  경기  화성시  재활용 가능자원  분리배출  폐전기전자제품       NaN    1316.4      0.0   \n",
      "37033  경기_화성시  경기  화성시  재활용 가능자원  분리배출     폐가구류       NaN       0.0      0.0   \n",
      "37034  경기_화성시  경기  화성시  재활용 가능자원  분리배출       기타       NaN       1.1      0.0   \n",
      "37035  경기_화성시  경기  화성시  재활용 가능자원  분리배출  재활용 잔재물       NaN       0.0      0.0   \n",
      "37036  경기_화성시  경기  화성시   음식물류 폐기물 분리배출      NaN       NaN  103151.9     13.0   \n",
      "\n",
      "        매립   기타       발생량    연도  \n",
      "3071   0.0  0.0   18980.0  2019  \n",
      "3072   0.0  0.0   19491.0  2019  \n",
      "3073   0.0  0.0     547.5  2019  \n",
      "3074   0.0  0.0    5840.0  2019  \n",
      "3075   0.0  0.0    5329.0  2019  \n",
      "...    ...  ...       ...   ...  \n",
      "37032  0.0  0.0    1316.4  2023  \n",
      "37033  0.0  0.0       0.0  2023  \n",
      "37034  0.0  0.0       1.1  2023  \n",
      "37035  0.0  0.0       0.0  2023  \n",
      "37036  0.0  0.0  103164.9  2023  \n",
      "\n",
      "[185 rows x 12 columns]\n"
     ]
    }
   ],
   "source": [
    "# 경기_화성군\n",
    "# 군 -> 시\n",
    "print(moving[moving['행정구역'].str.startswith('경기_화성')])\n",
    "print(waste[waste['행정구역'].str.startswith('경기_화성')])"
   ]
  },
  {
   "cell_type": "code",
   "execution_count": 223,
   "metadata": {},
   "outputs": [
    {
     "data": {
      "text/html": [
       "<div>\n",
       "<style scoped>\n",
       "    .dataframe tbody tr th:only-of-type {\n",
       "        vertical-align: middle;\n",
       "    }\n",
       "\n",
       "    .dataframe tbody tr th {\n",
       "        vertical-align: top;\n",
       "    }\n",
       "\n",
       "    .dataframe thead th {\n",
       "        text-align: right;\n",
       "    }\n",
       "</style>\n",
       "<table border=\"1\" class=\"dataframe\">\n",
       "  <thead>\n",
       "    <tr style=\"text-align: right;\">\n",
       "      <th></th>\n",
       "      <th>행정구역</th>\n",
       "      <th>시도</th>\n",
       "      <th>시군구</th>\n",
       "      <th>시점</th>\n",
       "      <th>총전입 (명)</th>\n",
       "      <th>총전출 (명)</th>\n",
       "      <th>순이동 (명)</th>\n",
       "    </tr>\n",
       "  </thead>\n",
       "  <tbody>\n",
       "    <tr>\n",
       "      <th>596</th>\n",
       "      <td>경기_화성시</td>\n",
       "      <td>경기</td>\n",
       "      <td>화성시</td>\n",
       "      <td>2019</td>\n",
       "      <td>168445</td>\n",
       "      <td>116607</td>\n",
       "      <td>51838</td>\n",
       "    </tr>\n",
       "    <tr>\n",
       "      <th>597</th>\n",
       "      <td>경기_화성시</td>\n",
       "      <td>경기</td>\n",
       "      <td>화성시</td>\n",
       "      <td>2020</td>\n",
       "      <td>155727</td>\n",
       "      <td>119562</td>\n",
       "      <td>36165</td>\n",
       "    </tr>\n",
       "    <tr>\n",
       "      <th>598</th>\n",
       "      <td>경기_화성시</td>\n",
       "      <td>경기</td>\n",
       "      <td>화성시</td>\n",
       "      <td>2021</td>\n",
       "      <td>153361</td>\n",
       "      <td>124882</td>\n",
       "      <td>28479</td>\n",
       "    </tr>\n",
       "    <tr>\n",
       "      <th>599</th>\n",
       "      <td>경기_화성시</td>\n",
       "      <td>경기</td>\n",
       "      <td>화성시</td>\n",
       "      <td>2022</td>\n",
       "      <td>119306</td>\n",
       "      <td>98368</td>\n",
       "      <td>20938</td>\n",
       "    </tr>\n",
       "    <tr>\n",
       "      <th>600</th>\n",
       "      <td>경기_화성시</td>\n",
       "      <td>경기</td>\n",
       "      <td>화성시</td>\n",
       "      <td>2023</td>\n",
       "      <td>142568</td>\n",
       "      <td>112517</td>\n",
       "      <td>30051</td>\n",
       "    </tr>\n",
       "    <tr>\n",
       "      <th>601</th>\n",
       "      <td>경기_화성시</td>\n",
       "      <td>경기</td>\n",
       "      <td>화성시</td>\n",
       "      <td>2024</td>\n",
       "      <td>131324</td>\n",
       "      <td>110665</td>\n",
       "      <td>20659</td>\n",
       "    </tr>\n",
       "  </tbody>\n",
       "</table>\n",
       "</div>"
      ],
      "text/plain": [
       "       행정구역  시도  시군구    시점  총전입 (명)  총전출 (명)  순이동 (명)\n",
       "596  경기_화성시  경기  화성시  2019   168445   116607    51838\n",
       "597  경기_화성시  경기  화성시  2020   155727   119562    36165\n",
       "598  경기_화성시  경기  화성시  2021   153361   124882    28479\n",
       "599  경기_화성시  경기  화성시  2022   119306    98368    20938\n",
       "600  경기_화성시  경기  화성시  2023   142568   112517    30051\n",
       "601  경기_화성시  경기  화성시  2024   131324   110665    20659"
      ]
     },
     "execution_count": 223,
     "metadata": {},
     "output_type": "execute_result"
    }
   ],
   "source": [
    "moving = moving[~moving['행정구역'].str.startswith('경기_화성군')]\n",
    "moving[moving['행정구역'].str.startswith('경기_화성')]"
   ]
  },
  {
   "cell_type": "code",
   "execution_count": 268,
   "metadata": {},
   "outputs": [
    {
     "name": "stdout",
     "output_type": "stream",
     "text": [
      "       행정구역  시도  시군구    시점  총전입 (명)  총전출 (명)  순이동 (명)\n",
      "572  경기_파주시  경기  파주시  2019    55949    54574     1375\n",
      "573  경기_파주시  경기  파주시  2020    75882    64593    11289\n",
      "574  경기_파주시  경기  파주시  2021    79477    60852    18625\n",
      "575  경기_파주시  경기  파주시  2022    69258    56191    13067\n",
      "576  경기_파주시  경기  파주시  2023    56166    53099     3067\n",
      "577  경기_파주시  경기  파주시  2024    74155    60006    14149\n",
      "644  경기_파주군  경기  파주군  2019        0        0        0\n",
      "645  경기_파주군  경기  파주군  2020        0        0        0\n",
      "646  경기_파주군  경기  파주군  2021        0        0        0\n",
      "647  경기_파주군  경기  파주군  2022        0        0        0\n",
      "648  경기_파주군  경기  파주군  2023        0        0        0\n",
      "649  경기_파주군  경기  파주군  2024        0        0        0\n",
      "         행정구역  시도  시군구          폐기물_종류  폐기물_종류1   폐기물_종류2      재활용       소각  \\\n",
      "3219   경기_파주시  경기  파주시    종량제방식 등 혼합배출      가연성       폐지류      0.0  10147.0   \n",
      "3220   경기_파주시  경기  파주시    종량제방식 등 혼합배출      가연성    폐합성수지류      0.0  16972.5   \n",
      "3221   경기_파주시  경기  파주시    종량제방식 등 혼합배출      가연성      폐고무류      0.0    511.0   \n",
      "3222   경기_파주시  경기  파주시    종량제방식 등 혼합배출      가연성      폐섬유류      0.0   7555.5   \n",
      "3223   경기_파주시  경기  파주시    종량제방식 등 혼합배출      가연성  음식물류 폐기물      0.0   4161.0   \n",
      "...       ...  ..  ...             ...      ...       ...      ...      ...   \n",
      "37180  경기_파주시  경기  파주시  재활용 가능자원  분리배출  폐전기전자제품       NaN   1355.0      0.0   \n",
      "37181  경기_파주시  경기  파주시  재활용 가능자원  분리배출     폐가구류       NaN      0.0      0.0   \n",
      "37182  경기_파주시  경기  파주시  재활용 가능자원  분리배출       기타       NaN   2644.5      0.0   \n",
      "37183  경기_파주시  경기  파주시  재활용 가능자원  분리배출  재활용 잔재물       NaN      0.0      0.0   \n",
      "37184  경기_파주시  경기  파주시   음식물류 폐기물 분리배출      NaN       NaN  20857.6      0.0   \n",
      "\n",
      "        매립       기타      발생량    연도  \n",
      "3219   0.0      0.0  10147.0  2019  \n",
      "3220   0.0      0.0  16972.5  2019  \n",
      "3221   0.0      0.0    511.0  2019  \n",
      "3222   0.0      0.0   7555.5  2019  \n",
      "3223   0.0      0.0   4161.0  2019  \n",
      "...    ...      ...      ...   ...  \n",
      "37180  0.0      0.0   1355.0  2023  \n",
      "37181  0.0      0.0      0.0  2023  \n",
      "37182  0.0      0.0   2644.5  2023  \n",
      "37183  0.0      0.0      0.0  2023  \n",
      "37184  0.0  11421.6  32279.2  2023  \n",
      "\n",
      "[185 rows x 12 columns]\n"
     ]
    }
   ],
   "source": [
    "# 군 -> 시\n",
    "# 충남_논산군\n",
    "# 경기_포천군\n",
    "# 경기_여주군\n",
    "# 경기_안성군\n",
    "# 경기_이천군\n",
    "# 경남_양산군\n",
    "# 경기_김포군\n",
    "# 충남_당진군\n",
    "# 경기_양주군\n",
    "# 경기_광주군\n",
    "# 경기_용인군\n",
    "# 경기_파주군\n",
    "\n",
    "print(moving[moving['행정구역'].str.startswith('경기_파주')])\n",
    "print(waste[waste['행정구역'].str.startswith('경기_파주')])"
   ]
  },
  {
   "cell_type": "code",
   "execution_count": 269,
   "metadata": {},
   "outputs": [
    {
     "data": {
      "text/html": [
       "<div>\n",
       "<style scoped>\n",
       "    .dataframe tbody tr th:only-of-type {\n",
       "        vertical-align: middle;\n",
       "    }\n",
       "\n",
       "    .dataframe tbody tr th {\n",
       "        vertical-align: top;\n",
       "    }\n",
       "\n",
       "    .dataframe thead th {\n",
       "        text-align: right;\n",
       "    }\n",
       "</style>\n",
       "<table border=\"1\" class=\"dataframe\">\n",
       "  <thead>\n",
       "    <tr style=\"text-align: right;\">\n",
       "      <th></th>\n",
       "      <th>행정구역</th>\n",
       "      <th>시도</th>\n",
       "      <th>시군구</th>\n",
       "      <th>시점</th>\n",
       "      <th>총전입 (명)</th>\n",
       "      <th>총전출 (명)</th>\n",
       "      <th>순이동 (명)</th>\n",
       "    </tr>\n",
       "  </thead>\n",
       "  <tbody>\n",
       "    <tr>\n",
       "      <th>572</th>\n",
       "      <td>경기_파주시</td>\n",
       "      <td>경기</td>\n",
       "      <td>파주시</td>\n",
       "      <td>2019</td>\n",
       "      <td>55949</td>\n",
       "      <td>54574</td>\n",
       "      <td>1375</td>\n",
       "    </tr>\n",
       "    <tr>\n",
       "      <th>573</th>\n",
       "      <td>경기_파주시</td>\n",
       "      <td>경기</td>\n",
       "      <td>파주시</td>\n",
       "      <td>2020</td>\n",
       "      <td>75882</td>\n",
       "      <td>64593</td>\n",
       "      <td>11289</td>\n",
       "    </tr>\n",
       "    <tr>\n",
       "      <th>574</th>\n",
       "      <td>경기_파주시</td>\n",
       "      <td>경기</td>\n",
       "      <td>파주시</td>\n",
       "      <td>2021</td>\n",
       "      <td>79477</td>\n",
       "      <td>60852</td>\n",
       "      <td>18625</td>\n",
       "    </tr>\n",
       "    <tr>\n",
       "      <th>575</th>\n",
       "      <td>경기_파주시</td>\n",
       "      <td>경기</td>\n",
       "      <td>파주시</td>\n",
       "      <td>2022</td>\n",
       "      <td>69258</td>\n",
       "      <td>56191</td>\n",
       "      <td>13067</td>\n",
       "    </tr>\n",
       "    <tr>\n",
       "      <th>576</th>\n",
       "      <td>경기_파주시</td>\n",
       "      <td>경기</td>\n",
       "      <td>파주시</td>\n",
       "      <td>2023</td>\n",
       "      <td>56166</td>\n",
       "      <td>53099</td>\n",
       "      <td>3067</td>\n",
       "    </tr>\n",
       "    <tr>\n",
       "      <th>577</th>\n",
       "      <td>경기_파주시</td>\n",
       "      <td>경기</td>\n",
       "      <td>파주시</td>\n",
       "      <td>2024</td>\n",
       "      <td>74155</td>\n",
       "      <td>60006</td>\n",
       "      <td>14149</td>\n",
       "    </tr>\n",
       "  </tbody>\n",
       "</table>\n",
       "</div>"
      ],
      "text/plain": [
       "       행정구역  시도  시군구    시점  총전입 (명)  총전출 (명)  순이동 (명)\n",
       "572  경기_파주시  경기  파주시  2019    55949    54574     1375\n",
       "573  경기_파주시  경기  파주시  2020    75882    64593    11289\n",
       "574  경기_파주시  경기  파주시  2021    79477    60852    18625\n",
       "575  경기_파주시  경기  파주시  2022    69258    56191    13067\n",
       "576  경기_파주시  경기  파주시  2023    56166    53099     3067\n",
       "577  경기_파주시  경기  파주시  2024    74155    60006    14149"
      ]
     },
     "execution_count": 269,
     "metadata": {},
     "output_type": "execute_result"
    }
   ],
   "source": [
    "moving = moving[~moving['행정구역'].str.startswith('경기_파주군')]\n",
    "moving[moving['행정구역'].str.startswith('경기_파주')]"
   ]
  },
  {
   "cell_type": "code",
   "execution_count": null,
   "metadata": {},
   "outputs": [],
   "source": [
    "# 반복..."
   ]
  },
  {
   "cell_type": "code",
   "execution_count": 224,
   "metadata": {},
   "outputs": [
    {
     "name": "stdout",
     "output_type": "stream",
     "text": [
      "        행정구역  시도  시군구    시점  총전입 (명)  총전출 (명)  순이동 (명)\n",
      "1370  경남_울산시  경남  울산시  2019        0        0        0\n",
      "1371  경남_울산시  경남  울산시  2020        0        0        0\n",
      "1372  경남_울산시  경남  울산시  2021        0        0        0\n",
      "1373  경남_울산시  경남  울산시  2022        0        0        0\n",
      "1374  경남_울산시  경남  울산시  2023        0        0        0\n",
      "1375  경남_울산시  경남  울산시  2024        0        0        0\n"
     ]
    }
   ],
   "source": [
    "# 경남_울산시 -> 울산 광역시로 데이터 0이니 삭제제\n",
    "print(moving[moving['행정구역'].str.startswith('경남_울산시')])"
   ]
  },
  {
   "cell_type": "code",
   "execution_count": 225,
   "metadata": {},
   "outputs": [
    {
     "data": {
      "text/html": [
       "<div>\n",
       "<style scoped>\n",
       "    .dataframe tbody tr th:only-of-type {\n",
       "        vertical-align: middle;\n",
       "    }\n",
       "\n",
       "    .dataframe tbody tr th {\n",
       "        vertical-align: top;\n",
       "    }\n",
       "\n",
       "    .dataframe thead th {\n",
       "        text-align: right;\n",
       "    }\n",
       "</style>\n",
       "<table border=\"1\" class=\"dataframe\">\n",
       "  <thead>\n",
       "    <tr style=\"text-align: right;\">\n",
       "      <th></th>\n",
       "      <th>행정구역</th>\n",
       "      <th>시도</th>\n",
       "      <th>시군구</th>\n",
       "      <th>시점</th>\n",
       "      <th>총전입 (명)</th>\n",
       "      <th>총전출 (명)</th>\n",
       "      <th>순이동 (명)</th>\n",
       "    </tr>\n",
       "  </thead>\n",
       "  <tbody>\n",
       "  </tbody>\n",
       "</table>\n",
       "</div>"
      ],
      "text/plain": [
       "Empty DataFrame\n",
       "Columns: [행정구역, 시도, 시군구, 시점, 총전입 (명), 총전출 (명), 순이동 (명)]\n",
       "Index: []"
      ]
     },
     "execution_count": 225,
     "metadata": {},
     "output_type": "execute_result"
    }
   ],
   "source": [
    "moving = moving[~moving['행정구역'].str.startswith('경남_울산시')]\n",
    "moving[moving['행정구역'].str.startswith('경남_울산시')]"
   ]
  },
  {
   "cell_type": "code",
   "execution_count": 226,
   "metadata": {},
   "outputs": [
    {
     "name": "stdout",
     "output_type": "stream",
     "text": [
      "        행정구역  시도  시군구    시점  총전입 (명)  총전출 (명)  순이동 (명)\n",
      "294   대구_군위군  대구  군위군  2023     1771     1737       34\n",
      "295   대구_군위군  대구  군위군  2024     1648     1816     -168\n",
      "1280  경북_군위군  경북  군위군  2019     2226     2054      172\n",
      "1281  경북_군위군  경북  군위군  2020     2125     2422     -297\n",
      "1282  경북_군위군  경북  군위군  2021     2113     2026       87\n",
      "1283  경북_군위군  경북  군위군  2022     2423     1652      771\n",
      "1284  경북_군위군  경북  군위군  2023        0        0        0\n",
      "1285  경북_군위군  경북  군위군  2024        0        0        0\n"
     ]
    }
   ],
   "source": [
    "# 경북_군위군 -> 대구_군위군군\n",
    "print(moving[moving['행정구역'].str.endswith('군위군')])\n",
    "# print(waste[waste['행정구역'].str.startswith('경북_군위')])"
   ]
  },
  {
   "cell_type": "code",
   "execution_count": 227,
   "metadata": {},
   "outputs": [
    {
     "name": "stderr",
     "output_type": "stream",
     "text": [
      "C:\\Users\\nammi\\AppData\\Local\\Temp\\ipykernel_23304\\1584931641.py:1: FutureWarning: ChainedAssignmentError: behaviour will change in pandas 3.0!\n",
      "You are setting values through chained assignment. Currently this works in certain cases, but when using Copy-on-Write (which will become the default behaviour in pandas 3.0) this will never work to update the original DataFrame or Series, because the intermediate object on which we are setting values will behave as a copy.\n",
      "A typical example is when you are setting values in a column of a DataFrame, like:\n",
      "\n",
      "df[\"col\"][row_indexer] = value\n",
      "\n",
      "Use `df.loc[row_indexer, \"col\"] = values` instead, to perform the assignment in a single step and ensure this keeps updating the original `df`.\n",
      "\n",
      "See the caveats in the documentation: https://pandas.pydata.org/pandas-docs/stable/user_guide/indexing.html#returning-a-view-versus-a-copy\n",
      "\n",
      "  moving['시도'][moving['행정구역'] == \"경북_군위군\"] = '대구'\n"
     ]
    }
   ],
   "source": [
    "moving['시도'][moving['행정구역'] == \"경북_군위군\"] = '대구'\n",
    "moving['행정구역'][moving['행정구역'] == \"경북_군위군\"] = '대구_군위군'"
   ]
  },
  {
   "cell_type": "code",
   "execution_count": 228,
   "metadata": {},
   "outputs": [
    {
     "name": "stdout",
     "output_type": "stream",
     "text": [
      "        행정구역  시도  시군구    시점  총전입 (명)  총전출 (명)  순이동 (명)\n",
      "294   대구_군위군  대구  군위군  2023     1771     1737       34\n",
      "295   대구_군위군  대구  군위군  2024     1648     1816     -168\n",
      "1280  대구_군위군  대구  군위군  2019     2226     2054      172\n",
      "1281  대구_군위군  대구  군위군  2020     2125     2422     -297\n",
      "1282  대구_군위군  대구  군위군  2021     2113     2026       87\n",
      "1283  대구_군위군  대구  군위군  2022     2423     1652      771\n",
      "1284  대구_군위군  대구  군위군  2023        0        0        0\n",
      "1285  대구_군위군  대구  군위군  2024        0        0        0\n"
     ]
    }
   ],
   "source": [
    "print(moving[moving['행정구역'].str.endswith('대구_군위군')])"
   ]
  },
  {
   "cell_type": "code",
   "execution_count": 229,
   "metadata": {},
   "outputs": [],
   "source": [
    "moving.drop([1284,1285], axis=0, inplace=True)"
   ]
  },
  {
   "cell_type": "code",
   "execution_count": 230,
   "metadata": {},
   "outputs": [
    {
     "name": "stdout",
     "output_type": "stream",
     "text": [
      "        행정구역  시도  시군구    시점  총전입 (명)  총전출 (명)  순이동 (명)\n",
      "294   대구_군위군  대구  군위군  2023     1771     1737       34\n",
      "295   대구_군위군  대구  군위군  2024     1648     1816     -168\n",
      "1280  대구_군위군  대구  군위군  2019     2226     2054      172\n",
      "1281  대구_군위군  대구  군위군  2020     2125     2422     -297\n",
      "1282  대구_군위군  대구  군위군  2021     2113     2026       87\n",
      "1283  대구_군위군  대구  군위군  2022     2423     1652      771\n"
     ]
    }
   ],
   "source": [
    "print(moving[moving['행정구역'].str.endswith('대구_군위군')])"
   ]
  },
  {
   "cell_type": "code",
   "execution_count": 231,
   "metadata": {},
   "outputs": [
    {
     "name": "stdout",
     "output_type": "stream",
     "text": [
      "        행정구역  시도  시군구    시점  총전입 (명)  총전출 (명)  순이동 (명)\n",
      "1358  경남_창원시  경남  창원시  2019        0        0        0\n",
      "1359  경남_창원시  경남  창원시  2020        0        0        0\n",
      "1360  경남_창원시  경남  창원시  2021        0        0        0\n",
      "1361  경남_창원시  경남  창원시  2022        0        0        0\n",
      "1362  경남_창원시  경남  창원시  2023        0        0        0\n",
      "1363  경남_창원시  경남  창원시  2024        0        0        0\n",
      "1364  경남_창원시  경남  창원시  2019   118972   128791    -9819\n",
      "1365  경남_창원시  경남  창원시  2020   132567   140425    -7858\n",
      "1366  경남_창원시  경남  창원시  2021   120887   123957    -3070\n",
      "1367  경남_창원시  경남  창원시  2022   101272   110046    -8774\n",
      "1368  경남_창원시  경남  창원시  2023    91342   101518   -10176\n",
      "1369  경남_창원시  경남  창원시  2024   101134   107937    -6803\n"
     ]
    }
   ],
   "source": [
    "# 경남_마산시 - > 경남_창원시\n",
    "print(moving[moving['행정구역'].str.startswith('경남_창원')])\n",
    "# print(waste[waste['행정구역'].str.startswith('경남_창원')])"
   ]
  },
  {
   "cell_type": "code",
   "execution_count": 263,
   "metadata": {},
   "outputs": [
    {
     "name": "stdout",
     "output_type": "stream",
     "text": [
      "        행정구역  시도  시군구    시점  총전입 (명)  총전출 (명)  순이동 (명)\n",
      "1376  경남_마산시  경남  마산시  2019        0        0        0\n",
      "1377  경남_마산시  경남  마산시  2020        0        0        0\n",
      "1378  경남_마산시  경남  마산시  2021        0        0        0\n",
      "1379  경남_마산시  경남  마산시  2022        0        0        0\n",
      "1380  경남_마산시  경남  마산시  2023        0        0        0\n",
      "1381  경남_마산시  경남  마산시  2024        0        0        0\n"
     ]
    }
   ],
   "source": [
    "print(moving[moving['행정구역'].str.startswith('경남_마산시')])"
   ]
  },
  {
   "cell_type": "code",
   "execution_count": 264,
   "metadata": {},
   "outputs": [
    {
     "data": {
      "text/html": [
       "<div>\n",
       "<style scoped>\n",
       "    .dataframe tbody tr th:only-of-type {\n",
       "        vertical-align: middle;\n",
       "    }\n",
       "\n",
       "    .dataframe tbody tr th {\n",
       "        vertical-align: top;\n",
       "    }\n",
       "\n",
       "    .dataframe thead th {\n",
       "        text-align: right;\n",
       "    }\n",
       "</style>\n",
       "<table border=\"1\" class=\"dataframe\">\n",
       "  <thead>\n",
       "    <tr style=\"text-align: right;\">\n",
       "      <th></th>\n",
       "      <th>행정구역</th>\n",
       "      <th>시도</th>\n",
       "      <th>시군구</th>\n",
       "      <th>시점</th>\n",
       "      <th>총전입 (명)</th>\n",
       "      <th>총전출 (명)</th>\n",
       "      <th>순이동 (명)</th>\n",
       "    </tr>\n",
       "  </thead>\n",
       "  <tbody>\n",
       "  </tbody>\n",
       "</table>\n",
       "</div>"
      ],
      "text/plain": [
       "Empty DataFrame\n",
       "Columns: [행정구역, 시도, 시군구, 시점, 총전입 (명), 총전출 (명), 순이동 (명)]\n",
       "Index: []"
      ]
     },
     "execution_count": 264,
     "metadata": {},
     "output_type": "execute_result"
    }
   ],
   "source": [
    "moving = moving[~moving['행정구역'].str.startswith('경남_마산시')]\n",
    "moving[moving['행정구역'].str.startswith('경남_마산시')]"
   ]
  },
  {
   "cell_type": "code",
   "execution_count": 232,
   "metadata": {},
   "outputs": [],
   "source": [
    "a = np.arange(1358,1364)\n",
    "moving.drop(a, axis=0, inplace=True)"
   ]
  },
  {
   "cell_type": "code",
   "execution_count": 233,
   "metadata": {},
   "outputs": [
    {
     "name": "stdout",
     "output_type": "stream",
     "text": [
      "        행정구역  시도  시군구    시점  총전입 (명)  총전출 (명)  순이동 (명)\n",
      "1364  경남_창원시  경남  창원시  2019   118972   128791    -9819\n",
      "1365  경남_창원시  경남  창원시  2020   132567   140425    -7858\n",
      "1366  경남_창원시  경남  창원시  2021   120887   123957    -3070\n",
      "1367  경남_창원시  경남  창원시  2022   101272   110046    -8774\n",
      "1368  경남_창원시  경남  창원시  2023    91342   101518   -10176\n",
      "1369  경남_창원시  경남  창원시  2024   101134   107937    -6803\n"
     ]
    }
   ],
   "source": [
    "print(moving[moving['행정구역'].str.startswith('경남_창원')])"
   ]
  },
  {
   "cell_type": "code",
   "execution_count": 236,
   "metadata": {},
   "outputs": [
    {
     "name": "stdout",
     "output_type": "stream",
     "text": [
      "       행정구역  시도  시군구    시점  총전입 (명)  총전출 (명)  순이동 (명)\n",
      "938  충남_연기군  충남  연기군  2019        0        0        0\n",
      "939  충남_연기군  충남  연기군  2020        0        0        0\n",
      "940  충남_연기군  충남  연기군  2021        0        0        0\n",
      "941  충남_연기군  충남  연기군  2022        0        0        0\n",
      "942  충남_연기군  충남  연기군  2023        0        0        0\n",
      "943  충남_연기군  충남  연기군  2024        0        0        0\n",
      "           행정구역  시도      시군구    시점  총전입 (명)  총전출 (명)  순이동 (명)\n",
      "452  세종_세종특별자치시  세종  세종특별자치시  2019    82398    58674    23724\n",
      "453  세종_세종특별자치시  세종  세종특별자치시  2020    78934    65909    13025\n",
      "454  세종_세종특별자치시  세종  세종특별자치시  2021    76912    62827    14085\n",
      "455  세종_세종특별자치시  세종  세종특별자치시  2022    65529    55401    10128\n",
      "456  세종_세종특별자치시  세종  세종특별자치시  2023    56050    54360     1690\n",
      "457  세종_세종특별자치시  세종  세종특별자치시  2024    61022    58214     2808\n"
     ]
    }
   ],
   "source": [
    "# 충남_연기군 -> 세종\n",
    "# 세종 있으니 연기군 삭제\n",
    "\n",
    "print(moving[moving['행정구역'].str.startswith('충남_연기')])\n",
    "print(moving[moving['행정구역'].str.startswith('세종')])"
   ]
  },
  {
   "cell_type": "code",
   "execution_count": 239,
   "metadata": {},
   "outputs": [],
   "source": [
    "a = np.arange(938,944)\n",
    "moving.drop(a, axis=0, inplace=True)"
   ]
  },
  {
   "cell_type": "code",
   "execution_count": 240,
   "metadata": {},
   "outputs": [
    {
     "name": "stdout",
     "output_type": "stream",
     "text": [
      "Empty DataFrame\n",
      "Columns: [행정구역, 시도, 시군구, 시점, 총전입 (명), 총전출 (명), 순이동 (명)]\n",
      "Index: []\n"
     ]
    }
   ],
   "source": [
    "print(moving[moving['행정구역'].str.startswith('충남_연기')])"
   ]
  },
  {
   "cell_type": "code",
   "execution_count": 242,
   "metadata": {},
   "outputs": [
    {
     "name": "stdout",
     "output_type": "stream",
     "text": [
      "        행정구역  시도  시군구    시점  총전입 (명)  총전출 (명)  순이동 (명)\n",
      "1100  전남_여천시  전남  여천시  2019        0        0        0\n",
      "1101  전남_여천시  전남  여천시  2020        0        0        0\n",
      "1102  전남_여천시  전남  여천시  2021        0        0        0\n",
      "1103  전남_여천시  전남  여천시  2022        0        0        0\n",
      "1104  전남_여천시  전남  여천시  2023        0        0        0\n",
      "1105  전남_여천시  전남  여천시  2024        0        0        0\n",
      "1130  전남_여천군  전남  여천군  2019        0        0        0\n",
      "1131  전남_여천군  전남  여천군  2020        0        0        0\n",
      "1132  전남_여천군  전남  여천군  2021        0        0        0\n",
      "1133  전남_여천군  전남  여천군  2022        0        0        0\n",
      "1134  전남_여천군  전남  여천군  2023        0        0        0\n",
      "1135  전남_여천군  전남  여천군  2024        0        0        0\n",
      "        행정구역  시도  시군구    시점  총전입 (명)  총전출 (명)  순이동 (명)\n",
      "1082  전남_여수시  전남  여수시  2019    38548    38853     -305\n",
      "1083  전남_여수시  전남  여수시  2020    38167    40171    -2004\n",
      "1084  전남_여수시  전남  여수시  2021    35389    37565    -2176\n",
      "1085  전남_여수시  전남  여수시  2022    32884    33628     -744\n",
      "1086  전남_여수시  전남  여수시  2023    27710    29574    -1864\n",
      "1087  전남_여수시  전남  여수시  2024    25574    28372    -2798\n"
     ]
    }
   ],
   "source": [
    "# 전남_여천군, 여천시천시 -> 여수로 통합 삭제\n",
    "print(moving[moving['행정구역'].str.startswith('전남_여천')])\n",
    "print(moving[moving['행정구역'].str.startswith('전남_여수')])"
   ]
  },
  {
   "cell_type": "code",
   "execution_count": 243,
   "metadata": {},
   "outputs": [
    {
     "data": {
      "text/html": [
       "<div>\n",
       "<style scoped>\n",
       "    .dataframe tbody tr th:only-of-type {\n",
       "        vertical-align: middle;\n",
       "    }\n",
       "\n",
       "    .dataframe tbody tr th {\n",
       "        vertical-align: top;\n",
       "    }\n",
       "\n",
       "    .dataframe thead th {\n",
       "        text-align: right;\n",
       "    }\n",
       "</style>\n",
       "<table border=\"1\" class=\"dataframe\">\n",
       "  <thead>\n",
       "    <tr style=\"text-align: right;\">\n",
       "      <th></th>\n",
       "      <th>행정구역</th>\n",
       "      <th>시도</th>\n",
       "      <th>시군구</th>\n",
       "      <th>시점</th>\n",
       "      <th>총전입 (명)</th>\n",
       "      <th>총전출 (명)</th>\n",
       "      <th>순이동 (명)</th>\n",
       "    </tr>\n",
       "  </thead>\n",
       "  <tbody>\n",
       "  </tbody>\n",
       "</table>\n",
       "</div>"
      ],
      "text/plain": [
       "Empty DataFrame\n",
       "Columns: [행정구역, 시도, 시군구, 시점, 총전입 (명), 총전출 (명), 순이동 (명)]\n",
       "Index: []"
      ]
     },
     "execution_count": 243,
     "metadata": {},
     "output_type": "execute_result"
    }
   ],
   "source": [
    "moving = moving[~moving['행정구역'].str.startswith('전남_여천')]\n",
    "moving[moving['행정구역'].str.startswith('전남_여천')]"
   ]
  },
  {
   "cell_type": "code",
   "execution_count": 244,
   "metadata": {},
   "outputs": [
    {
     "name": "stdout",
     "output_type": "stream",
     "text": [
      "      행정구역  시도 시군구    시점  총전입 (명)  총전출 (명)  순이동 (명)\n",
      "308  인천_남구  인천  남구  2019        0        0        0\n",
      "309  인천_남구  인천  남구  2020        0        0        0\n",
      "310  인천_남구  인천  남구  2021        0        0        0\n",
      "311  인천_남구  인천  남구  2022        0        0        0\n",
      "312  인천_남구  인천  남구  2023        0        0        0\n",
      "313  인천_남구  인천  남구  2024        0        0        0\n",
      "        행정구역  시도   시군구    시점  총전입 (명)  총전출 (명)  순이동 (명)\n",
      "314  인천_미추홀구  인천  미추홀구  2019    55630    63322    -7692\n",
      "315  인천_미추홀구  인천  미추홀구  2020    64320    68529    -4209\n",
      "316  인천_미추홀구  인천  미추홀구  2021    66407    61554     4853\n",
      "317  인천_미추홀구  인천  미추홀구  2022    57506    56415     1091\n",
      "318  인천_미추홀구  인천  미추홀구  2023    56754    55722     1032\n",
      "319  인천_미추홀구  인천  미추홀구  2024    62008    54753     7255\n"
     ]
    }
   ],
   "source": [
    "# 인천_남구 -> 인천_미추홀구\n",
    "# 인천_남구 삭제제\n",
    "\n",
    "print(moving[moving['행정구역'].str.startswith('인천_남구')])\n",
    "print(moving[moving['행정구역'].str.startswith('인천_미추홀구')])"
   ]
  },
  {
   "cell_type": "code",
   "execution_count": 245,
   "metadata": {},
   "outputs": [
    {
     "data": {
      "text/html": [
       "<div>\n",
       "<style scoped>\n",
       "    .dataframe tbody tr th:only-of-type {\n",
       "        vertical-align: middle;\n",
       "    }\n",
       "\n",
       "    .dataframe tbody tr th {\n",
       "        vertical-align: top;\n",
       "    }\n",
       "\n",
       "    .dataframe thead th {\n",
       "        text-align: right;\n",
       "    }\n",
       "</style>\n",
       "<table border=\"1\" class=\"dataframe\">\n",
       "  <thead>\n",
       "    <tr style=\"text-align: right;\">\n",
       "      <th></th>\n",
       "      <th>행정구역</th>\n",
       "      <th>시도</th>\n",
       "      <th>시군구</th>\n",
       "      <th>시점</th>\n",
       "      <th>총전입 (명)</th>\n",
       "      <th>총전출 (명)</th>\n",
       "      <th>순이동 (명)</th>\n",
       "    </tr>\n",
       "  </thead>\n",
       "  <tbody>\n",
       "  </tbody>\n",
       "</table>\n",
       "</div>"
      ],
      "text/plain": [
       "Empty DataFrame\n",
       "Columns: [행정구역, 시도, 시군구, 시점, 총전입 (명), 총전출 (명), 순이동 (명)]\n",
       "Index: []"
      ]
     },
     "execution_count": 245,
     "metadata": {},
     "output_type": "execute_result"
    }
   ],
   "source": [
    "moving = moving[~moving['행정구역'].str.startswith('인천_남구')]\n",
    "moving[moving['행정구역'].str.startswith('인천_남구')]"
   ]
  },
  {
   "cell_type": "code",
   "execution_count": 246,
   "metadata": {},
   "outputs": [
    {
     "name": "stdout",
     "output_type": "stream",
     "text": [
      "        행정구역  시도  시군구    시점  총전입 (명)  총전출 (명)  순이동 (명)\n",
      "1388  경남_진해시  경남  진해시  2019        0        0        0\n",
      "1389  경남_진해시  경남  진해시  2020        0        0        0\n",
      "1390  경남_진해시  경남  진해시  2021        0        0        0\n",
      "1391  경남_진해시  경남  진해시  2022        0        0        0\n",
      "1392  경남_진해시  경남  진해시  2023        0        0        0\n",
      "1393  경남_진해시  경남  진해시  2024        0        0        0\n",
      "        행정구역  시도  시군구    시점  총전입 (명)  총전출 (명)  순이동 (명)\n",
      "1364  경남_창원시  경남  창원시  2019   118972   128791    -9819\n",
      "1365  경남_창원시  경남  창원시  2020   132567   140425    -7858\n",
      "1366  경남_창원시  경남  창원시  2021   120887   123957    -3070\n",
      "1367  경남_창원시  경남  창원시  2022   101272   110046    -8774\n",
      "1368  경남_창원시  경남  창원시  2023    91342   101518   -10176\n",
      "1369  경남_창원시  경남  창원시  2024   101134   107937    -6803\n"
     ]
    }
   ],
   "source": [
    "# 경남_진해시 -> 경남_창원시\n",
    "print(moving[moving['행정구역'].str.startswith('경남_진해')])\n",
    "print(moving[moving['행정구역'].str.startswith('경남_창원')])"
   ]
  },
  {
   "cell_type": "code",
   "execution_count": 247,
   "metadata": {},
   "outputs": [
    {
     "data": {
      "text/html": [
       "<div>\n",
       "<style scoped>\n",
       "    .dataframe tbody tr th:only-of-type {\n",
       "        vertical-align: middle;\n",
       "    }\n",
       "\n",
       "    .dataframe tbody tr th {\n",
       "        vertical-align: top;\n",
       "    }\n",
       "\n",
       "    .dataframe thead th {\n",
       "        text-align: right;\n",
       "    }\n",
       "</style>\n",
       "<table border=\"1\" class=\"dataframe\">\n",
       "  <thead>\n",
       "    <tr style=\"text-align: right;\">\n",
       "      <th></th>\n",
       "      <th>행정구역</th>\n",
       "      <th>시도</th>\n",
       "      <th>시군구</th>\n",
       "      <th>시점</th>\n",
       "      <th>총전입 (명)</th>\n",
       "      <th>총전출 (명)</th>\n",
       "      <th>순이동 (명)</th>\n",
       "    </tr>\n",
       "  </thead>\n",
       "  <tbody>\n",
       "  </tbody>\n",
       "</table>\n",
       "</div>"
      ],
      "text/plain": [
       "Empty DataFrame\n",
       "Columns: [행정구역, 시도, 시군구, 시점, 총전입 (명), 총전출 (명), 순이동 (명)]\n",
       "Index: []"
      ]
     },
     "execution_count": 247,
     "metadata": {},
     "output_type": "execute_result"
    }
   ],
   "source": [
    "moving = moving[~moving['행정구역'].str.startswith('경남_진해')]\n",
    "moving[moving['행정구역'].str.startswith('경남_진해')]"
   ]
  },
  {
   "cell_type": "code",
   "execution_count": 270,
   "metadata": {},
   "outputs": [
    {
     "name": "stdout",
     "output_type": "stream",
     "text": [
      "set()\n",
      "set()\n"
     ]
    }
   ],
   "source": [
    "print(set(waste['행정구역'].unique())-set(moving['행정구역'].unique()))\n",
    "print(set(moving['행정구역'].unique()) - set(waste['행정구역'].unique()))"
   ]
  },
  {
   "cell_type": "code",
   "execution_count": 271,
   "metadata": {},
   "outputs": [],
   "source": [
    "moving.to_csv(\"../../DB/전입출_수정.csv\", encoding=\"CP949\", index=False)"
   ]
  }
 ],
 "metadata": {
  "kernelspec": {
   "display_name": ".venv",
   "language": "python",
   "name": "python3"
  },
  "language_info": {
   "codemirror_mode": {
    "name": "ipython",
    "version": 3
   },
   "file_extension": ".py",
   "mimetype": "text/x-python",
   "name": "python",
   "nbconvert_exporter": "python",
   "pygments_lexer": "ipython3",
   "version": "3.11.9"
  }
 },
 "nbformat": 4,
 "nbformat_minor": 2
}
